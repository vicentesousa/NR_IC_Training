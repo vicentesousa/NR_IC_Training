{
  "cells": [
    {
      "cell_type": "markdown",
      "metadata": {
        "id": "iHCHdNxO6JNG"
      },
      "source": [
        "# **Hands-on 3: Exemplos Rem-Example e Rem-Beam-Example**\n",
        "\n",
        "### **Objetivos:**\n",
        "\n",
        "Este Hands-on tem o objetivo de analisar dois exemplos do LENA New Radio 5G, o primeiro, rem-beam-example, é um exemplo simples que pode ser usado para testar diferentes configurações de parâmetros de um conjunto de gNBs e gerar REMs, entretanto, a função dele é apenas essa, e visto que é um exemplo muito curto e repleto de código já visto e explicado anteriormente, este Hands-on terá um foco maior no rem-example, que demonstra como configurar uma simulação utilizando NrRadioEnviromentMapHelper.\n",
        "\n",
        "### **Cenário:**\n",
        "\n",
        "Com o rem-example é possível criar cenários contendo uma, duas ou quatro gNbs com no mínimo um UE para cada gNbs e, por fim, visualizar os REMs desses cenários.\n",
        "\n",
        "### **Requisitos:**\n",
        "\n",
        "* Ter instalado o ns-3.36;\n",
        "* Ter integrado o 5G-LENA;\n",
        "* Ter gnuplot instalado; e\n",
        "* Ter realizado as leituras preliminares necessárias.\n"
      ]
    },
    {
      "cell_type": "markdown",
      "metadata": {
        "id": "toaNV5a7p83R"
      },
      "source": [
        "## **Parte 1: Como funciona o rem-beam-example.cc?**\n",
        "\n",
        "Como o código é só uma utilização do rem-example, partiremos diretamente para a execução do código.\n",
        "\n",
        "### **Passo 1: Executando o código.**\n",
        "\n",
        "Para instalar o GNUPLOT, abra o terminal e execute a seguinte linha de comando:\n",
        "```\n",
        "sudo apt install gnuplot-x11\n",
        "```\n",
        "\n",
        "Crie uma pasta chamada “teste”, abra o terminal no diretório principal do ns3 e execute a linha de comando abaixo. Deste modo, os arquivos gerados serão enviados diretamente para a pasta criada ao invés do diretório principal do ns3.\n",
        "\n",
        "```\n",
        "./ns3 run rem-beam-example -- –cwd=”teste”\n",
        "```\n",
        "\n",
        "A saída obtida deve ser semelhante à mostrada na figura abaixo.\n",
        "\n",
        "![1.png](FIGS/1.png)"
      ]
    },
    {
      "cell_type": "markdown",
      "metadata": {
        "id": "uxkFnhclqXks"
      },
      "source": [
        "Abra um terminal na pasta “teste” e execute a linha de comando abaixo. O resultado será a geração de 4 arquivos .png dos plots de REMs do cenário. \n",
        "```\n",
        "gnuplot nr-rem--plot-rem.gnuplot\n",
        "\n",
        "```\n",
        "\n",
        "![2.png](FIGS/2.png)\n",
        "\n",
        "Como o foco deste tutorial não é focar nesse exemplo, devido a sua simplicidade, os procedimentos realizados nesta parte serão reapresentados e melhor detalhados na parte 2 deste hands-on.\n",
        "\n"
      ]
    },
    {
      "cell_type": "markdown",
      "metadata": {
        "id": "tedfhwddq4wZ"
      },
      "source": [
        "## **Parte 2: Como funciona o Exemplo Rem-Example.cc?**\n",
        "\n",
        "### **Passo 1: Entendendo o código.**\n",
        "\n",
        "De início, são definidos os includes e configurados os parâmetros da simulação, como é padrão de todas as simulações do ns-3. Nesse ponto é que começam as preparações para o plot dos REMs, sendo definido os valores de alguns parâmetros.\n",
        "\n",
        "![3.png](FIGS/3.png)"
      ]
    },
    {
      "cell_type": "markdown",
      "metadata": {
        "id": "Mhp9ZnlNrQ09"
      },
      "source": [
        "Após isso, as variáveis são definidas para serem modificadas via terminal. Os laços IFs abaixo modificam a altura das antenas das gNbs e dos usuários de acordo com o cenário escolhido.\n",
        "\n",
        "![4.png](FIGS/4.png)"
      ]
    },
    {
      "cell_type": "markdown",
      "metadata": {
        "id": "9Ta3o3vCrWMw"
      },
      "source": [
        "São criadas e posicionadas as gNbs e os UEs. Abaixo é mostrada a configuração dos helpers do NR e da BWP (já discutido no Hands-on anterior).\n",
        "\n",
        "![5.png](FIGS/5.png)"
      ]
    },
    {
      "cell_type": "markdown",
      "metadata": {
        "id": "7dJpltQesZ6s"
      },
      "source": [
        "Nas linhas abaixo, o exemplo inicia o canal, pathloss e outras configurações de banda.\n",
        "\n",
        "![6.png](FIGS/6.png)"
      ]
    },
    {
      "cell_type": "markdown",
      "metadata": {
        "id": "kFCFRRw4sc0f"
      },
      "source": [
        "Após isso, é estabelecido um conjunto de laços IF para configurar o beamforming, definindo o método de formatação de feixes.\n",
        "\n",
        "* Primeiro método: vetores de beamforming são **direct path** tanto na gNb como no UE;\n",
        "* Segunda método: vetores de beamforming da gNb são **direct path** e do UE são **quasi-omni**; \n",
        "* Terceiro método: vetores de beamforming da gNb são **quasi-omni** e do UE são **direct path**; e\n",
        "* Quarta método: vetores de beamforming da gNb usam **cell scan** e do UE são **quasi-omni**;\n",
        "\n",
        "Na última linha de código presente na imagem é configurado o atraso a ser usado para o próximo link da interface de usuário S1-U a ser criado.\n",
        "\n",
        "![7.png](FIGS/7.png)\n"
      ]
    },
    {
      "cell_type": "markdown",
      "metadata": {
        "id": "ojynoC-XthfX"
      },
      "source": [
        "Com o nrHelper, são selecionados o número de colunas, linhas (para a configuração do MIMO) e tipo das antenas das UEs e gNbs com o método *SetUe/GnbAntennaAttribute*. Por padrão o exemplo está usando o modelo *ThreeGppAntennaModel*, que consiste em uma antena setorizada com ângulo de cobertura de 120°.\n",
        "\n",
        "![8.png](FIGS/8.png)"
      ]
    },
    {
      "cell_type": "markdown",
      "metadata": {
        "id": "7PI5T24ctpma"
      },
      "source": [
        "Em seguida os aparelhos de internet do NR são instalados e assinaladas como random as streams para cada device, com o *AssignStreams*; por último é configurada a potência de transmissão e numerologia do canal;\n",
        "\n",
        "![9.png](FIGS/9.png)\n"
      ]
    },
    {
      "cell_type": "markdown",
      "metadata": {
        "id": "DztlqacwtwoS"
      },
      "source": [
        "Depois de tudo configurado, é chamado o método *UpdateConfig()* para atualizar toda a configuração. A internet é criada e o protocolo IP instalado, também configurando a rota do sistema.\n",
        "\n",
        "![10.png](FIGS/10.png)\n",
        "\n"
      ]
    },
    {
      "cell_type": "markdown",
      "metadata": {
        "id": "s4QElbgpvcvz"
      },
      "source": [
        "Por conseguinte, são assinados os IPs para todas as UEs com *GetStacticRouting()* e instalado o protocolo UDP de downlink com o *UdpClientHelper*. Também são conectadas as UEs com a gNB mais próxima utilizando *AttachToEnb()*.\n",
        "\n",
        "![11.png](FIGS/11.png)"
      ]
    },
    {
      "cell_type": "markdown",
      "metadata": {
        "id": "9sRwhaIIvpn6"
      },
      "source": [
        "Aqui, os aplicativos de servidores e clientes são iniciados e depois os traces são ativos.\n",
        "\n",
        "![12.png](FIGS/12.png)"
      ]
    },
    {
      "cell_type": "markdown",
      "metadata": {
        "id": "9QkOUalpvvtS"
      },
      "source": [
        "Finalmente, o REM é iniciado. De início, é criada a variável *remBwpId* e atribuido valor zero a ela. Após, é utilizado o *remHelper* para configurar o mapa de REM, os valores mínimos e máximos de X e Y, a resolução de cada eixo, a altura do mapa e o nome dele. Na última linha é inserida a tag de simulação para ser adicionada aos gráficos de REM.\n",
        "\n",
        "![13.png](FIGS/13.png)\n"
      ]
    },
    {
      "cell_type": "markdown",
      "metadata": {
        "id": "vZBF9I0DwF-I"
      },
      "source": [
        "Em seguida os resultados da simulação são recebidos para montar o REM, este exemplo utilizou a configuração “*SingleGnb*”, portanto, nenhum dos IFs abaixo foi utilizado, apenas a primeira linha foi considerada.\n",
        "\n",
        "![14.png](FIGS/14.png)"
      ]
    },
    {
      "cell_type": "markdown",
      "metadata": {
        "id": "5ccq6syXxLh1"
      },
      "source": [
        "Para finalizar, os laços IFs abaixo configuram o tipo de REM a ser visualizado. este exemplo, por padrão, está utilizando o tipo “CoverageArea”, mas existem outros dois tipos de REMs implementados que podem ser visualizados, “UeCoverage” e “BeamShape”, esse último que precisa ser configurado entre downlink e uplink.\n",
        "\n",
        "![15.png](FIGS/15.png)"
      ]
    },
    {
      "cell_type": "markdown",
      "metadata": {
        "id": "4nLutS92xTCF"
      },
      "source": [
        "### **Passo 2: Executando o código.**\n",
        "\n",
        "Apague o conteúdo do exemplo anterior da pasta “teste”, abra o terminal no diretório principal do ns3 e execute a linha de comando abaixo. \n",
        "\n",
        "```\n",
        "./ns3 run rem-example -- –cwd=”teste”\n",
        "```\n",
        "\n",
        "A saída obtida deve ser semelhante à mostrada na figura abaixo.\n",
        "\n",
        "![16.png](FIGS/16.png)"
      ]
    },
    {
      "cell_type": "markdown",
      "metadata": {
        "id": "42h_KTPmxdRI"
      },
      "source": [
        "Após o término da simulação, 5 arquivos são gerados. Os arquivos  de terminação .txt carregam os dados utilizados para gerar os gráficos de REM. O arquivo .gnuplot contém uma série de comandos para gerar os gráficos automaticamente a partir da execução da linha de comando abaixo em um terminal aberto nas pastas onde estão presentes os arquivos.\n",
        "\n",
        "```\n",
        "gnuplot nr-rem–plot-rem.gnuplot\n",
        "```\n",
        "\n",
        "Os arquivos gerados serão esses .png selecionados na imagem abaixo. A primeira imagem é referente a IPSD (Interference Power Spectral Density), que corresponde a potência recebida de todos os sinais em cada ponto REM. O segundo diz respeito a SINR (Signal to Interference and Noise Ratio), indicando a razão de interferência e ruído por sinal. O gráfico de SIR (Signal to Interference Ratio) corresponde à relação entre sinal e interferência a SNR (Signal to Noise Ratio), que corresponde à razão pelo sinal e ruído.\n",
        "\n",
        "![17.png](FIGS/17.png)\n"
      ]
    },
    {
      "cell_type": "markdown",
      "metadata": {
        "id": "E2UN1K5py4ZU"
      },
      "source": [
        "Através dos gráficos abaixo é possível observar:\n",
        "\n",
        "A área de cobertura (SNR):\n",
        "\n",
        "![18.png](FIGS/18.png)\n",
        "\n",
        "A cobertura efetiva (SINR):\n",
        "\n",
        "![19.png](FIGS/19.png)\n",
        "\n",
        "A distribuição da interferência no cenário (IPSD):\n",
        "\n",
        "![20.png](FIGS/20.png)\n",
        "\n",
        "E a área afetada pela interferência (SIR):\n",
        "\n",
        "![21.png](FIGS/21.png)\n"
      ]
    }
  ],
  "metadata": {
    "colab": {
      "provenance": []
    },
    "kernelspec": {
      "display_name": "Python 3",
      "name": "python3"
    },
    "language_info": {
      "name": "python"
    }
  },
  "nbformat": 4,
  "nbformat_minor": 0
}
