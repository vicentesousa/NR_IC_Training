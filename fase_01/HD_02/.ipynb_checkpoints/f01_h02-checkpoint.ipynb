{
 "cells": [
  {
   "cell_type": "markdown",
   "metadata": {
    "id": "_aE37zFk56bW"
   },
   "source": [
    "# **Hands-on 2: Exemplo cttc-nr-demo**\n",
    "\n",
    "### **Objetivo:**\n",
    "\n",
    "O objetivo do cttc-nr-demo.cc é permitir ao usuário entender o básico para configurar uma simulação completa de transmissão de dados ponto a ponto no NR.\n",
    "\n",
    "### **Cenário:**\n",
    "\n",
    "O cenário construído usa o modelo de canal do 3GPP do TR  38.900. Este exemplo consiste em uma tela de topologia simples. Com a configuração padrão o exemplo criará dois caminhos que vão por sub-bandas de diferentes numerologias (BPWs). Por isso, especificamente, duas BPWs são criadas, cada uma com uma única CC, e cada CC contendo uma BPW. Por fim deverá printar os resultados dos caminhos e escrevê-los em um arquivo.\n",
    "\n",
    "### **Requisitos:**\n",
    "\n",
    "* Ter instalado o ns-3.36;\n",
    "* Ter integrado o 5G-LENA;\n",
    "* Ter realizado as leituras preliminares necessárias.\n"
   ]
  },
  {
   "cell_type": "markdown",
   "metadata": {
    "id": "p0FammZJ6CLX"
   },
   "source": [
    "# **Parte 1: Como funciona o Exemplo Lena-Simple-EPC.cc?**\n",
    "\n",
    "## **Passo 1: Entendendo o código.**\n",
    "\n",
    "Em primeiro lugar são feitos os includes das bibliotecas.\n",
    "\n",
    "![1.png](./FIGS/1.png)\n",
    "\n"
   ]
  },
  {
   "cell_type": "markdown",
   "metadata": {
    "id": "7RPaFLhLCADL"
   },
   "source": [
    "Após isso é chamada a função para habilitar os logs do arquivo.\n",
    "\n",
    "![2.png](./FIGS/2.png)\n",
    "\n"
   ]
  },
  {
   "cell_type": "markdown",
   "metadata": {
    "id": "PCh8l5o-CBQ0"
   },
   "source": [
    "No início da main são declarados as variáveis de parâmetro do cenário, tráfico, simulação e do Nr.\n",
    "\n",
    "![3.png](./FIGS/3.png)"
   ]
  },
  {
   "cell_type": "markdown",
   "metadata": {
    "id": "5SOEBdbsCC18"
   },
   "source": [
    "A seguir é definido o nome e a posição em que os arquivos de saída serão salvos, neste caso o nome está definido como “default” e a pasta de saída será o diretório principal do ns3.\n",
    "\n",
    "![4.png](./FIGS/4.png)"
   ]
  },
  {
   "cell_type": "markdown",
   "metadata": {
    "id": "n2Rxn_PcCHWC"
   },
   "source": [
    "Em seguida, as variáveis são definidas para serem modificadas via terminal caso seja necessário pelo usuário, e após, é feito o parse para aderir modificações nas variáveis.\n",
    "\n",
    "![5.png](./FIGS/5.png)\n",
    "\n",
    "![6.png](./FIGS/6.png)"
   ]
  },
  {
   "cell_type": "markdown",
   "metadata": {
    "id": "CljlDoKPCP5-"
   },
   "source": [
    "Nas linhas 184 e 185 cria-se um alerta para finalizar a simulação caso as frequências centrais 1 e 2 especificadas sejam superiores a 100 GHz. Após isso, tem-se um laço IF para permitir o logging da simulação caso a variável “logging” seja verdadeira. \n",
    "\n",
    "![7.png](./FIGS/7.png)"
   ]
  },
  {
   "cell_type": "markdown",
   "metadata": {
    "id": "X1gJGL9vCTfO"
   },
   "source": [
    "A linha 208 seta o tamanho máximo do Tx do buffer, isso é necessário devido há algumas heranças do NR com os códigos do LTE.\n",
    "\n",
    "![8.png](./FIGS/8.png)\n"
   ]
  },
  {
   "cell_type": "markdown",
   "metadata": {
    "id": "8fWbdQ15Cau9"
   },
   "source": [
    "Na sequência é descrito o cenário da simulação. O cenário é extremamente parecido com do exemplo channel-simple-fdm, exceto pela adição do parâmetro grid.Scenario.SetVerticalBsDistance na linha 220.\n",
    "\n",
    "![9.png](./FIGS/9.png)"
   ]
  },
  {
   "cell_type": "markdown",
   "metadata": {
    "id": "p_bq4aAaCgq3"
   },
   "source": [
    "São criados containers diferentes para dois diferentes tipos de tráfego, um de baixa latência (ueLowLatContainer) e um de voz (ueVoiceContainer). Após isso é estabelecida uma lógica para separar e atribuir os UEs entre os dois containers.\n",
    "\n",
    "![10.png](./FIGS/10.png)"
   ]
  },
  {
   "cell_type": "markdown",
   "metadata": {
    "id": "_B4tHTySCmA6"
   },
   "source": [
    "Nas linhas abaixo são instanciados os helpers necessários para simulações no NR. O EpcHelper é encarregado de configurar o núcleo da rede, o IdealBeamformingHelper trabalha com a parte de beamforming e o NrHelper cria e conecta as partes que compõem o NR.\n",
    "\n",
    "![11.png](./FIGS/11.png)"
   ]
  },
  {
   "cell_type": "markdown",
   "metadata": {
    "id": "QHNeDY-PCqUg"
   },
   "source": [
    "Assim, coloca-se os helpers criados dentro do NrHelper por meio da atribuição mostrada nas linhas abaixo.\n",
    "\n",
    "![12.png](./FIGS/12.png)"
   ]
  },
  {
   "cell_type": "markdown",
   "metadata": {
    "id": "iD_WR3kJCtbm"
   },
   "source": [
    "As linhas abaixo servem para criar uma divisão no espectro. O vetor “allBwps” criado com BandwidthPartinfoPrtVector na linha 279 serve para adicionar informações das BWPs. Na linha 280 chama-se o método ccBwpCreator e na linha 281 é estabelecida  a quantidade de Component Carriers (CC) que cada banda terá, no caso, apenas uma.\n",
    "\n",
    "Em seguida, nas linhas 285 e 286 são criadas, de fato, as Bandwidth Parts (BWPs). elas são configuradas por meio  do método SimpleOperationBandConf utilizando os parâmetros anteriormente determinados. \n",
    "\n",
    "Por fim, nas linhas 289 e 290, cria-se as bandas de operação contendo a quantidade de CCs e a BWP configurada.\n",
    "\n",
    "![13.png](./FIGS/13.png)"
   ]
  },
  {
   "cell_type": "markdown",
   "metadata": {
    "id": "1ODPWrcjCyT4"
   },
   "source": [
    "As bandas operacionais criadas estão configuradas como abaixo.\n",
    "\n",
    "![14.png](./FIGS/14.png)"
   ]
  },
  {
   "cell_type": "markdown",
   "metadata": {
    "id": "x8SigvRsC2j5"
   },
   "source": [
    "Logo em sequência, o código se utiliza de um Config::SetDefault para utilizar como padrão o período de atualização da simulação em 0 segundos, após a mesma atribuição é feita ao canal em SetChannelConditionModelAttribute, e a condição do pathloss sobre a ativação do Shadowing no sistema em SetPathlossAttribute.\n",
    "\n",
    "![15.png](./FIGS/15.png)"
   ]
  },
  {
   "cell_type": "markdown",
   "metadata": {
    "id": "9IlQ-5DFC7I1"
   },
   "source": [
    "InitializeOperationBand faz exatamente o que seu nome sugere, inicia a banda de operação especificada, neste caso a banda 1 (existe possibilidade de fazer uma configuração manual, porém não será utilizado neste exemplo). Na linha 319, transformar-se a potência de transmissão em linear e guarda-se na variável “x”, que só será usada mais futuramente no script.  Já na linha 320, cria-se a variável “totalBandwidth” para armazenar a informação do tamanho da banda 1.\n",
    "\n",
    "![16.png](./FIGS/16.png)"
   ]
  },
  {
   "cell_type": "markdown",
   "metadata": {
    "id": "WY8QuIDrC-qw"
   },
   "source": [
    "Caso se deseje utilizar duas bandas de operação, como é a proposta deste exemplo, este exemplo, criou-se um laço IF para, caso doubleOperationalBand seja verdadeiro, implementa-se a inicialização da banda 2 e soma-se ela ao valor anterior da variável “totalBandwidth”, que já possuía o valor da banda 1. Após isso, as duas bandas são adicionadas em “allBwps” com o método CcBwpCreator::GetAllBwps, ou apenas a primeira caso apenas uma banda fosse ser utilizada.\n",
    "\n",
    "![17.png](./FIGS/17.png)"
   ]
  },
  {
   "cell_type": "markdown",
   "metadata": {
    "id": "mK6nyd6IDCSu"
   },
   "source": [
    "As linhas de código abaixo servem apenas para verificar (EnableChecking) e imprimir (EnablePrinting) os parâmetros da simulação no terminal.\n",
    "\n",
    "![18.png](./FIGS/18.png)"
   ]
  },
  {
   "cell_type": "markdown",
   "metadata": {
    "id": "gP2dpa_2DFT-"
   },
   "source": [
    "Agora que as BWPs tem as configurações necessárias para o NrHelper,  são configurados os três seguintes tipos de atributos: 1) Parâmetros que são válidos para todas as bandwidth parts e são aplicados a todos os nós; 2) Parâmetros que são válidos para todas as bandwidth parts e aplicados a alguns nós; e 3) Parâmetros que são diferentes para cada bandwidth part. \n",
    "\n",
    "A abordagem para 1) é: Configurar o atributo através do helper, e instalar; para 2) é: Configurar o atributo através do Helper, e instalar para os primeiros nós, depois mudar o atributo pelo helper e instalar novamente; e para 3) é: Instalar, e então configurar os atributos recebendo o ponteiro necessário e chamando \"SetAttribute\" no ponteiro chamado."
   ]
  },
  {
   "cell_type": "markdown",
   "metadata": {
    "id": "M8uYyToBDLai"
   },
   "source": [
    "### **Caso 1): Atributos válidos para todos os nós**\n",
    "\n",
    "São configurados os atributos de beamforming, latência do núcleo, posição e tipo das antenas das gNbs e UEs.\n",
    "\n",
    "![19.png](./FIGS/19.png)"
   ]
  },
  {
   "cell_type": "markdown",
   "metadata": {
    "id": "9XDbiSJYDacf"
   },
   "source": [
    "São criadas duas variáveis, de BWP, uma para baixa latência e uma para voz. Como este exemplo possui duas bandas de operação, o laço IF é utilizado para distribuir a separação de voz e baixa latência entre as duas BWPs (0,1). Com isso, utilizando o nrHelper, é setado, tanto nas gNbs, quanto nos UEs, o roteamento entre o Bearer e a BWP desejada.\n",
    "\n",
    "![20.png](./FIGS/20.png)"
   ]
  },
  {
   "cell_type": "markdown",
   "metadata": {
    "id": "AcrRj5veDfIM"
   },
   "source": [
    "Após tudo atribuído, são instalados os ponteiros nos NetDevices, que contém toda a pilha do NR e, em seguida, é implementado em uma posição aleatória no grid.\n",
    "\n",
    "![21.png](./FIGS/21.png)\n",
    "\n",
    "### **Caso 2): Não está presente nesse exemplo**\n"
   ]
  },
  {
   "cell_type": "markdown",
   "metadata": {
    "id": "43-BU7RNDndM"
   },
   "source": [
    "### **Caso 3): Os atributos são modificados em cada nó específico.**\n",
    "\n",
    "As linhas de código abaixo seta a numerologia e a potência de transmissão no primeiro netdevice e na primeira BWP. O laço IF serve para implementar o mesmo procedimento para uma segunda bandwidth part em caso de “doubleOperationalBand” verdeiro.\n",
    "\n",
    "![22.png](./FIGS/22.png)"
   ]
  },
  {
   "cell_type": "markdown",
   "metadata": {
    "id": "x9Nq5mmxDwJ1"
   },
   "source": [
    "Após isso, deve ser explicitamente chamado UpdateConfig() para atualizar as configurações da simulação na configuração da eNb e UE de baixa latência e de voz.\n",
    "\n",
    "![23.png](./FIGS/23.png)"
   ]
  },
  {
   "cell_type": "markdown",
   "metadata": {
    "id": "RzUQuKnDD1GG"
   },
   "source": [
    "A partir deste ponto o código do exemplo segue o script padrão do ns-3 já apresentado em hands-ons anteriores, mas vale salientar algumas coisas.\n",
    "\n",
    "É necessário dar attach em ambos os devices, tanto o de baixa latência, quanto o de voz.\n",
    "\n",
    "![24.png](./FIGS/24.png)"
   ]
  },
  {
   "cell_type": "markdown",
   "metadata": {
    "id": "fdiO4gO9D4eQ"
   },
   "source": [
    "Da mesma forma, também é necessário configurar os parâmetros individuais para cada tipo de tráfego ao implementar a aplicação.\n",
    "\n",
    "![25.png](./FIGS/25.png)"
   ]
  },
  {
   "cell_type": "markdown",
   "metadata": {
    "id": "KQeeLwUuD7P4"
   },
   "source": [
    "# **Passo 2: Executando o script.**\n",
    "\n",
    "Basta apenas executar a linha de comando abaixo em um terminal aberto no diretório principal do ns-3.\n",
    "\n",
    "```\n",
    "./ns3 run cttc-nr-demo\n",
    "```\n",
    "\n",
    "A saída obtida deve ser semelhante à mostrada na figura abaixo.\n",
    "\n",
    "![26.png](./FIGS/26.png)"
   ]
  }
 ],
 "metadata": {
  "colab": {
   "authorship_tag": "ABX9TyNXpyDkCO1n0xBDMF5Y2uxW",
   "provenance": []
  },
  "kernelspec": {
   "display_name": "Python 3",
   "language": "python",
   "name": "python3"
  },
  "language_info": {
   "codemirror_mode": {
    "name": "ipython",
    "version": 3
   },
   "file_extension": ".py",
   "mimetype": "text/x-python",
   "name": "python",
   "nbconvert_exporter": "python",
   "pygments_lexer": "ipython3",
   "version": "3.8.5"
  }
 },
 "nbformat": 4,
 "nbformat_minor": 1
}
