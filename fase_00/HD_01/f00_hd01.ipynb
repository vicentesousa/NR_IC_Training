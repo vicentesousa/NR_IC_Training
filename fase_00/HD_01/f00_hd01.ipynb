{
 "cells": [
  {
   "cell_type": "markdown",
   "metadata": {
    "id": "NDgqXT8i8w3A"
   },
   "source": [
    "# **Passo a passo de instalação do ns-3 NR e sua integração com o VSCode**\n",
    "\n",
    "## **Objetivos**\n",
    "\n",
    "As metas deste tutorial são ajudar o usuário a:\n",
    "- Instalar todos os pacotes necessários para rodar a versão 1.3 do NR do ns-3 no Linux;\n",
    "- Instalar o módulo do NR no ns-3; e \n",
    "- integrar o ns-3 ao VSCode.\n",
    "\n",
    "\n",
    "### **Observação**\n",
    "\n",
    "Antes da execução deste tutorial é necessário enviar um email solicitando o acesso ao repositório do módulo NR no GITLAB. As instruções de como realizar esse passo estão [aqui](https://5g-lena.cttc.es/download/). \n",
    "\n",
    "## **Instalar os pacotes requiridos pelo ns-3 no Linux**\n",
    "\n",
    "Deve-se abrir o teminal no repositório principal do seu Linux e digitar as seguintes linhas de comando abaixo.\n",
    "\n",
    "```\n",
    "apt install g++ python3\n",
    "```\n",
    "```\n",
    "apt install g++ python3 cmake\n",
    "```\n",
    "```\n",
    "apt install g++ python3 python3-dev pkg-config sqlite3 cmake\n",
    "```\n",
    "```\n",
    "apt install python3-setuptools git\n",
    "```\n",
    "```\n",
    "apt install qtbase5-dev qtchooser qt5-qmake qtbase5-dev-tools\n",
    "```\n",
    "```\n",
    "apt install qt5-default\n",
    "```\n",
    "\n",
    "Provavelmente ao tentar realizar a ação acontecerá um erro semelhante ao da imagem abaixo.\n",
    "\n",
    "![1.png](./FIGS/1.png)\n",
    "\n",
    "Ele ocorre pois é necessário realizar esta ação utilizando o modo root do Linux. Caso seja a primeira vez que você utilizará esse modo do terminal, é necessário gerar uma senha de acesso, para isso utiliza-se a linha de comando abaixo.\n",
    "\n",
    "```\n",
    "sudo passwd root\n",
    "```\n",
    "\n",
    "O resultado deve ser semelhante ao mostrado na imagem abaixo. Recomenda-se utilizar a **mesma senha** que é utilizada abrir seu perfil no sistema operacional.\n",
    "\n",
    "![2.png](./FIGS/2.png)\n",
    "\n",
    "Com a senha já definida, deve-se executar a linha de comando abaixo.\n",
    "\n",
    "```\n",
    "su -\n",
    "```\n",
    "\n",
    "Perceba que após inserir a senha o cabeçalho do terminal agora terminará com **#** ao invés de **$**.\n",
    "\n",
    "![3.png](./FIGS/3.png)\n",
    "\n",
    "Com isso, deve-se executar as linhas de comando do inicio dessa parte do tutorial."
   ]
  },
  {
   "cell_type": "markdown",
   "metadata": {
    "id": "k_X1pDfGD43S"
   },
   "source": [
    "## **Instalar o ns-3-dev e adicionar o módulo NR**\n",
    "\n",
    "Inicialmente, deve-se clonar o repositório do ns-3-dev, utilizando a linha de comando abaixo.\n",
    "\n",
    "```\n",
    "git clone https://gitlab.com/nsnam/ns-3-dev.git\n",
    "```\n",
    "![4.png](./FIGS/4.png)\n",
    "\n",
    "Após isso, deve-se executar a linha de comando abaixo para configurar o ns-3. Note que agora não se utilizar a terminologia **./waf** para rodar coisas referentes ao ns-3, mas sim a terminologia **./ns3**.\n",
    "\n",
    "```\n",
    "./ns3 configure --enable-examples --enable-tests\n",
    "```\n",
    "\n",
    "Depois disso, deve-se buildar o ns-3 utilizando o comando:\n",
    "\n",
    "```\n",
    "./ns3\n",
    "```\n",
    "\n",
    "Após o comando anterior terminar de ser executado, devem surgir uma mensagem no final da execução solicitando que ações sejam realizadas em relação ao cmake, desta forma, basta executa-las como solicitado.\n",
    "\n",
    "![5.png](./FIGS/5.png)\n",
    "\n",
    "```\n",
    "cd cmake-cache\n",
    "```\n",
    "```\n",
    "cmake --build . -j 1\n",
    "```\n",
    "\n",
    "Para testar se tudo ocorreu como deveria, abra o terminal no repositório principal do ns-3-dev e execute a linha de comando abaixo. Ela irá rodar um exemplo já conhecido do rampup do LTE. \n",
    "\n",
    "```\n",
    "./ns3 run lena-simple\n",
    "```\n",
    "\n",
    "A resposta esperada após o exemplo ter sido rodado é que apareçam os arquivos destacados na imagem abaixo no repositório principal do ns-3.\n",
    "\n",
    "![6.png](./FIGS/6.png)"
   ]
  },
  {
   "cell_type": "markdown",
   "metadata": {},
   "source": [
    "## **Integrar com o VSCode**\n",
    "\n",
    "Em breve!!"
   ]
  },
  {
   "cell_type": "code",
   "execution_count": null,
   "metadata": {},
   "outputs": [],
   "source": []
  }
 ],
 "metadata": {
  "colab": {
   "authorship_tag": "ABX9TyNBakN/Nw/uc3aHkoER9BZU",
   "name": "Untitled0.ipynb",
   "provenance": []
  },
  "kernelspec": {
   "display_name": "Python 3",
   "language": "python",
   "name": "python3"
  },
  "language_info": {
   "codemirror_mode": {
    "name": "ipython",
    "version": 3
   },
   "file_extension": ".py",
   "mimetype": "text/x-python",
   "name": "python",
   "nbconvert_exporter": "python",
   "pygments_lexer": "ipython3",
   "version": "3.8.5"
  }
 },
 "nbformat": 4,
 "nbformat_minor": 1
}
